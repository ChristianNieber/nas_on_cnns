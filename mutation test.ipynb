{
 "cells": [
  {
   "cell_type": "code",
   "execution_count": null,
   "outputs": [],
   "source": [
    "# importing libraries\n",
    "import numpy as np\n",
    "import matplotlib.pyplot as plt\n",
    "from matplotlib import colors\n",
    "from matplotlib.ticker import PercentFormatter\n",
    "from strategy_stepper import *"
   ],
   "metadata": {
    "collapsed": false
   }
  },
  {
   "cell_type": "code",
   "execution_count": null,
   "outputs": [],
   "source": [
    "def mutate_samples(var : Var, initial_value, n_points=100000, random_walk=False):\n",
    "    nas_strategy = StepperStrategy()\n",
    "    mvar = MutableVar(var.type, initial_value, None, var)\n",
    "    values = []\n",
    "    steps = []\n",
    "    unchanged_values = 0\n",
    "    for i in range(n_points):\n",
    "        if random_walk:\n",
    "            if mvar.new_value is not None:\n",
    "                mvar.value = mvar.new_value\n",
    "                mvar.step = mvar.new_step\n",
    "        else:\n",
    "            mvar.step = None\n",
    "        mvar.new_value = None\n",
    "        mvar.new_step = None\n",
    "    \n",
    "        if not random_walk:\n",
    "            mvar.value = initial_value\n",
    "    \n",
    "        mutation_state = nas_strategy.MutationState(0, 25, 0.5, 0.5)\n",
    "    \n",
    "        nas_strategy.mutate_variable_step_per_parameter(mvar, mutation_state)\n",
    "        \n",
    "        if mvar.new_value is not None:\n",
    "            values.append(mvar.new_value)\n",
    "        else:\n",
    "            values.append(mvar.value)\n",
    "            unchanged_values += 1\n",
    "        steps.append(mvar.new_step if mvar.new_step != None else mvar.step)\n",
    "    return values, steps, unchanged_values\n",
    "\n",
    "def plot_mutated_samples(title, var : Var, initial_value, n_points=100000, random_walk=False, show_walk=False, n_bins=100, n_bins_step=100, step_xlim=None, step_range=None):\n",
    "    random.seed(1)\n",
    "    np.random.seed(1)\n",
    "    \n",
    "    values, steps, unchanged_values = mutate_samples(var, initial_value, n_points, random_walk)\n",
    "\n",
    "    print(f\"{unchanged_values=} of {n_points}\")\n",
    "\n",
    "    fig, (ax1, ax2) = plt.subplots(1, 2, figsize=(20, 7))\n",
    "    if show_walk:\n",
    "        ax1.plot(values)\n",
    "        ax2.plot(steps)\n",
    "        #     ax2.set_xscale('log')\n",
    "    else:\n",
    "        ax1.set_title((\"Random Walk of \" if random_walk else \"Mutation Distribution of \") + title)\n",
    "        ax1.hist(values, bins=n_bins)\n",
    "        ax2.set_title(\"Step Width Distribution\")\n",
    "        ax2.hist(steps, bins=n_bins_step, range=step_range)\n",
    "        ax2.set_xlim(0, step_xlim)\n",
    "    plt.show()\n",
    "\n",
    "plot_mutated_samples(\"Int Variable with Initial Value 50 and range [0, 100]\", Var(\"test_int\", Type.INT, 0, 100), 50, step_xlim=100)"
   ],
   "metadata": {
    "collapsed": false
   }
  },
  {
   "cell_type": "code",
   "execution_count": null,
   "outputs": [],
   "source": [
    "plot_mutated_samples(\"Float Variable with Initial Value 50 and range [0, 100]\", Var(\"test_float\", Type.FLOAT, 0.0, 100.0), 50.0)\n",
    "plot_mutated_samples(\"Float Variable with Initial Value 50 and range [0, 100]\", Var(\"test_float\", Type.FLOAT, 0.0, 100.0), 50.0, n_points=1000, random_walk=True)"
   ],
   "metadata": {
    "collapsed": false
   }
  },
  {
   "cell_type": "code",
   "execution_count": null,
   "outputs": [],
   "source": [
    "plot_mutated_samples(\"Categorical Variable with Initial Value 'green'\", Var(\"test_cat\", Type.CAT, categories=['red', 'green', 'yellow']), 'green', step_xlim=0.6, step_range=(0, 0.6))"
   ],
   "metadata": {
    "collapsed": false
   }
  },
  {
   "cell_type": "code",
   "execution_count": null,
   "outputs": [],
   "source": [
    "# test of interval_transform\n",
    "x = np.arange(-200, 300.0, 1)\n",
    "y = list(map(lambda xi: interval_transform(xi, 0.0, 100.0), x))\n",
    "fig, ax = plt.subplots(figsize=(7, 7))\n",
    "ax.set_title(\"$T_{0,100}(x)$\")\n",
    "ax.plot(x, y)\n",
    "ax.set_ylim(-200, 300)\n",
    "ax.set_xlim(-200, 300)\n",
    "ax.grid()\n",
    "plt.show()"
   ],
   "metadata": {
    "collapsed": false
   }
  },
  {
   "cell_type": "code",
   "execution_count": null,
   "outputs": [],
   "source": [
    "random.seed(1)\n",
    "np.random.seed(1)\n",
    "values = []\n",
    "for i in range(100000):\n",
    "    v = 50 + 100 * random.gauss(0, 0.25)\n",
    "    v = np.clip(v, 0, 100)\n",
    "    values.append(v)\n",
    "\n",
    "fig, ax1 = plt.subplots(figsize=(10, 7))\n",
    "ax1.set_title(\"Mutations of a variable with range [0, 100] and σ=0.25, clipped to interval\")\n",
    "ax1.hist(values, bins=100)\n",
    "ax1.set_xlim(0, 100)\n",
    "plt.show()"
   ],
   "metadata": {
    "collapsed": false
   }
  },
  {
   "cell_type": "code",
   "execution_count": null,
   "outputs": [],
   "source": [
    "random.seed(1)\n",
    "np.random.seed(1)\n",
    "values = []\n",
    "for i in range(100000):\n",
    "    v = 50 + 100 * random.gauss(0, 0.25)\n",
    "    v = interval_transform(v, 0, 100)\n",
    "    values.append(v)\n",
    "\n",
    "fig, ax1 = plt.subplots(figsize=(10, 7))\n",
    "ax1.set_title(\"Mutations of a variable with range [0, 100] and σ=0.25, transformed with $T_{0,100}()$\")\n",
    "ax1.hist(values, bins=100)\n",
    "ax1.set_xlim(0, 100)\n",
    "plt.show()"
   ],
   "metadata": {
    "collapsed": false
   }
  },
  {
   "cell_type": "code",
   "execution_count": null,
   "outputs": [],
   "source": [],
   "metadata": {
    "collapsed": false
   }
  }
 ],
 "metadata": {
  "kernelspec": {
   "name": "tf",
   "language": "python",
   "display_name": "tf"
  },
  "language_info": {
   "codemirror_mode": {
    "name": "ipython",
    "version": 2
   },
   "file_extension": ".py",
   "mimetype": "text/x-python",
   "name": "python",
   "nbconvert_exporter": "python",
   "pygments_lexer": "ipython2",
   "version": "2.7.6"
  }
 },
 "nbformat": 4,
 "nbformat_minor": 0
}
