{
 "cells": [
  {
   "cell_type": "code",
   "execution_count": null,
   "outputs": [],
   "source": [
    "# importing libraries\n",
    "import numpy as np\n",
    "import matplotlib.pyplot as plt\n",
    "from matplotlib import colors\n",
    "from matplotlib.ticker import PercentFormatter\n",
    "from strategy_stepper import *"
   ],
   "metadata": {
    "collapsed": false
   }
  },
  {
   "cell_type": "code",
   "execution_count": null,
   "outputs": [],
   "source": [
    "def mutate_samples(var : Var, initial_value, n_points=100000, random_walk=False):\n",
    "    nas_strategy = StepperStrategy()\n",
    "    mvar = MutableVar(var.type, initial_value, None, var)\n",
    "    mvar_list = [mvar]\n",
    "    values = []\n",
    "    steps = []\n",
    "    unchanged_values = 0\n",
    "    for i in range(n_points):\n",
    "        for var in mvar_list:\n",
    "            if random_walk:\n",
    "                if var.new_value is not None:\n",
    "                    var.value = var.new_value\n",
    "                    var.step = var.new_step\n",
    "            else:\n",
    "                var.step = None\n",
    "            var.new_value = None\n",
    "            var.new_step = None\n",
    "    \n",
    "        if not random_walk:\n",
    "            var.value = initial_value\n",
    "    \n",
    "        nas_strategy.mutate_varlist(mvar_list)\n",
    "        \n",
    "        if var.new_value is not None:\n",
    "            values.append(var.new_value)\n",
    "            steps.append(var.new_step)\n",
    "        else:\n",
    "            values.append(var.value)\n",
    "            steps.append(var.step)\n",
    "            unchanged_values += 1\n",
    "    return values, steps, unchanged_values\n",
    "\n",
    "def plot_mutated_samples(title, var : Var, initial_value, n_points=100000, random_walk=False, show_walk=False, n_bins=100, n_bins_step=100, step_xlim=None, step_range=None):\n",
    "    random.seed(1)\n",
    "    np.random.seed(1)\n",
    "    nas_strategy = NasStrategy()\n",
    "    \n",
    "    values, steps, unchanged_values = mutate_samples(var, initial_value, n_points, random_walk)\n",
    "\n",
    "    print(f\"{unchanged_values=} of {n_points}\")\n",
    "\n",
    "    fig, (ax1, ax2) = plt.subplots(1, 2, figsize=(20, 7))\n",
    "    if show_walk:\n",
    "        ax1.plot(values)\n",
    "        ax2.plot(steps)\n",
    "        #     ax2.set_xscale('log')\n",
    "    else:\n",
    "        ax1.set_title((\"Random Walk of \" if random_walk else \"Mutation Distribution of \") + title)\n",
    "        ax1.hist(values, bins=n_bins)\n",
    "        ax2.set_title(\"Step Width Distribution\")\n",
    "        ax2.hist(steps, bins=n_bins_step, range=step_range)\n",
    "        ax2.set_xlim(0, step_xlim)\n",
    "    plt.show()\n",
    "plot_mutated_samples(\"Float Variable with Initial Value 50 and range [0, 100]\", Var(\"test_float\", Type.FLOAT, 0.0, 100.0), 50.0)\n",
    "plot_mutated_samples(\"Float Variable with Initial Value 50 and range [0, 100]\", Var(\"test_float\", Type.FLOAT, 0.0, 100.0), 50.0, n_points=1000, random_walk=True)\n"
   ],
   "metadata": {
    "collapsed": false
   }
  },
  {
   "cell_type": "code",
   "execution_count": null,
   "outputs": [],
   "source": [
    "plot_mutated_samples(\"Int Variable with Initial Value 50 and range [0, 100]\", Var(\"test_int\", Type.INT, 0, 100), 50, n_bins_step=1000, step_xlim=100)"
   ],
   "metadata": {
    "collapsed": false
   }
  },
  {
   "cell_type": "code",
   "execution_count": null,
   "outputs": [],
   "source": [
    "plot_mutated_samples(\"Categorical Variable with Initial Value 'green'\", Var(\"test_cat\", Type.CAT, categories=['red', 'green', 'yellow']), 'green', step_xlim=0.6, step_range=(0, 0.6))"
   ],
   "metadata": {
    "collapsed": false
   }
  },
  {
   "cell_type": "code",
   "execution_count": null,
   "outputs": [],
   "source": [
    "x = np.arange(0.0, 100.0, .1)\n",
    "y = list(map(lambda xi: interval_transform(xi, 40.0, 60.0), x))\n",
    "fig, ax = plt.subplots(1, 1, figsize=(10, 7), tight_layout=True)\n",
    "ax.plot(x, y)\n",
    "ax.set_ylim(0, 100)\n",
    "ax.grid()\n",
    "plt.show()"
   ],
   "metadata": {
    "collapsed": false
   }
  },
  {
   "cell_type": "code",
   "execution_count": null,
   "outputs": [],
   "source": [],
   "metadata": {
    "collapsed": false
   }
  }
 ],
 "metadata": {
  "kernelspec": {
   "name": "tf",
   "language": "python",
   "display_name": "tf"
  },
  "language_info": {
   "codemirror_mode": {
    "name": "ipython",
    "version": 2
   },
   "file_extension": ".py",
   "mimetype": "text/x-python",
   "name": "python",
   "nbconvert_exporter": "python",
   "pygments_lexer": "ipython2",
   "version": "2.7.6"
  }
 },
 "nbformat": 4,
 "nbformat_minor": 0
}
