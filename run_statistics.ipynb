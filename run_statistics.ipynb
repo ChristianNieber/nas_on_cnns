{
 "cells": [
  {
   "cell_type": "code",
   "execution_count": null,
   "outputs": [],
   "source": [
    "from plot_statistics import *"
   ],
   "metadata": {
    "collapsed": false
   }
  },
  {
   "cell_type": "code",
   "execution_count": null,
   "outputs": [],
   "source": [
    "# experiment_name = 'FDENSER_10Ep_test2'\n",
    "# experiment_title = 'F-DENSER 10 Epochs'\n",
    "\n",
    "# experiment_name = 'FDENSER_200gen/FDENSER*'\n",
    "# experiment_title = 'F-DENSER'\n",
    "\n",
    "experiment_name = 'DECAY20/DECAY*'\n",
    "experiment_title = 'Stepper-decay'\n",
    "\n",
    "# experiment_name = 'ADAPTIVE20/ADAPTIVE*'\n",
    "# experiment_title = 'Adaptive'\n",
    "\n",
    "experiments_path = 'D:/experiments/'\n",
    "# experiments_path = '/content/gdrive/MyDrive/experiments/'\n",
    "\n",
    "stats = load_stats(experiments_path, experiment_name)\n",
    "\n",
    "print_statistics(stats, experiments_path, experiment_name)"
   ],
   "metadata": {
    "collapsed": false
   }
  },
  {
   "cell_type": "code",
   "execution_count": null,
   "outputs": [],
   "source": [
    "do_all_plots(stats, experiment_title=experiment_title, plot_best_run=True, group_pictures=False)"
   ],
   "metadata": {
    "collapsed": false
   }
  },
  {
   "cell_type": "code",
   "execution_count": null,
   "outputs": [],
   "source": [],
   "metadata": {
    "collapsed": false
   }
  }
 ],
 "metadata": {
  "kernelspec": {
   "name": "python3",
   "language": "python",
   "display_name": "Python 3 (ipykernel)"
  },
  "language_info": {
   "codemirror_mode": {
    "name": "ipython",
    "version": 2
   },
   "file_extension": ".py",
   "mimetype": "text/x-python",
   "name": "python",
   "nbconvert_exporter": "python",
   "pygments_lexer": "ipython2",
   "version": "2.7.6"
  }
 },
 "nbformat": 4,
 "nbformat_minor": 0
}
