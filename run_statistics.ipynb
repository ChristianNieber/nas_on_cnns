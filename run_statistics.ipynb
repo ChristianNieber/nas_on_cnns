{
 "cells": [
  {
   "cell_type": "code",
   "execution_count": null,
   "outputs": [],
   "source": [
    "import time\n",
    "import numpy as np\n",
    "import matplotlib.pyplot as plt\n",
    "import pickle"
   ],
   "metadata": {
    "collapsed": false
   }
  },
  {
   "cell_type": "code",
   "execution_count": null,
   "outputs": [],
   "source": [
    "experiment_name = 'Stepper 2 comma'\n",
    "statistics_file = 'D:/experiments/' + experiment_name + '/statistics.pkl'\n",
    "\n",
    "with open(statistics_file, 'rb') as f:\n",
    "\tstat = pickle.load(f)\n",
    "\n",
    "def to_numpy(list_of_lists):\n",
    "\tfor i in range(0, len(list_of_lists)):\n",
    "\t\tif len(list_of_lists[i]) > 5:\n",
    "\t\t\tlist_of_lists[i] = list_of_lists[i][0:5]\n",
    "\treturn np.array(list_of_lists)\n",
    "\n",
    "def hms(seconds):\n",
    "\treturn time.strftime(\"%H:%M:%S\", time.gmtime(seconds))\n"
   ],
   "metadata": {
    "collapsed": false
   }
  },
  {
   "cell_type": "code",
   "execution_count": null,
   "outputs": [],
   "source": [
    "print(f\"{experiment_name}: {stat.run_generation} generations\")\n",
    "print(f\"{stat.evaluations_total} evaluations ({stat.evaluations_k_folds} for k-folds), {stat.evaluations_cache_hits} cache hits, {stat.evaluations_invalid} invalid\")\n",
    "print(f\"runtime {hms(stat.run_time)}, evaluation time {hms(stat.eval_time)} (this run {hms(stat.eval_time_this_run)}), k-folds: {hms(stat.eval_time_k_folds)} (this run {hms(stat.eval_time_k_folds_this_run)})\")\n",
    "\n",
    "# show label for 'Population accuracy' only once\n",
    "def reduced_legend(ax, population_size):\n",
    "\thandles, labels = ax.get_legend_handles_labels()\n",
    "\tdisplay = (0,population_size)\n",
    "\tax.legend([handle for i,handle in enumerate(handles) if i in display],\n",
    "\t\t\t\t[label for i,label in enumerate(labels) if i in display], loc = 'best', fontsize=15)\n",
    "\n",
    "generation_accuracy = to_numpy(stat.generation_accuracy)\n",
    "(ngenerations, population_size) = generation_accuracy.shape\n",
    "xscale = np.arange(0, ngenerations)\n",
    "\n",
    "fig, ((ax, ax2), (ax3, ax4)) = plt.subplots(2, 2, figsize=(20,14))\n",
    "\n",
    "ax.set_title('Accuracy', fontsize=25)\n",
    "ax.set_xlabel(\"generation\", fontsize=20)\n",
    "\n",
    "for i in range(population_size):\n",
    "\tax.plot(generation_accuracy[:, i], '*',color ='#C0C0C0',label = 'Population accuracy',zorder=-32)\n",
    "if len(stat.k_fold_accuracy):\n",
    "\tax.plot(xscale, stat.k_fold_accuracy, 'b*-', label=\"K-fold accuracy\")\n",
    "\tax.errorbar(xscale, stat.k_fold_accuracy, yerr = stat.k_fold_accuracy_std, ecolor='b', zorder=10)\n",
    "else:\n",
    "\tax.plot(stat.accuracy, 'b*-', label=\"test accuracy\")\n",
    "ax.set_ylim(0.96, 1.0)\n",
    "ax.set_xlim(0, ngenerations)\n",
    "reduced_legend(ax, population_size)\n",
    "ax.grid(True)\n",
    "\n",
    "ax2.set_title(\"Best Individual's Number of Parameters\", fontsize=25)\n",
    "ax2.set_xlabel(\"generation\", fontsize=20)\n",
    "ax2.plot(stat.parameters, label=\"parameters\")\n",
    "ax2.set_xlim(0, ngenerations)\n",
    "ax2.set_ylim(0)\n",
    "ax2.grid(True)\n",
    "\n",
    "ax3.set_title('Fitness', fontsize=25)\n",
    "ax3.set_xlabel(\"generation\", fontsize=20)\n",
    "generation_fitness = to_numpy(stat.generation_fitness)\n",
    "(ngenerations, population_size) = generation_fitness.shape\n",
    "xscale = np.arange(0, ngenerations)\n",
    "for i in range(population_size):\n",
    "\tax3.plot(generation_fitness[:, i], '*',color ='#C0C0C0',label = 'Population fitness',zorder=-32)\n",
    "ax3.plot(stat.fitness, 'b*-', label=\"Fitness\")\n",
    "if stat.k_fold_fitness_std:\n",
    "\tax3.errorbar(xscale, stat.fitness, yerr = stat.k_fold_fitness_std, ecolor='b', zorder=10)\n",
    "ax3.set_ylim(-10, 3)\n",
    "ax3.set_xlim(0, ngenerations)\n",
    "reduced_legend(ax3, population_size)\n",
    "ax3.grid(True)\n",
    "\n",
    "ax4.set_title('Different Accuracy Measures', fontsize=25)\n",
    "ax4.set_xlabel(\"generation\", fontsize=20)\n",
    "if len(stat.k_fold_accuracy):\n",
    "\tax4.plot(xscale, stat.k_fold_accuracy, 'b*-', label=\"avg K-fold accuracy\")\n",
    "\tax4.errorbar(xscale, stat.k_fold_accuracy, yerr = stat.k_fold_accuracy_std, ecolor='b', zorder=10)\n",
    "\tax4.plot(stat.k_fold_final_accuracy, label=\"avg K-fold final accuracy\")\n",
    "ax4.plot(stat.accuracy, label=\"test accuracy\")\n",
    "ax4.plot(stat.train_accuracy, label=\"training accuracy\")\n",
    "ax4.plot(stat.val_accuracy, label=\"validation accuracy\")\n",
    "ax4.plot(stat.final_test_accuracy, label=\"final test accuracy\")\n",
    "ax4.set_ylim(0.96, 1.0)\n",
    "ax4.set_xlim(0, ngenerations)\n",
    "ax4.legend(fontsize=15)\n",
    "ax4.grid(True)"
   ],
   "metadata": {
    "collapsed": false
   }
  },
  {
   "cell_type": "code",
   "execution_count": null,
   "outputs": [],
   "source": [],
   "metadata": {
    "collapsed": false
   }
  }
 ],
 "metadata": {
  "kernelspec": {
   "name": "tf",
   "language": "python",
   "display_name": "tf"
  },
  "language_info": {
   "codemirror_mode": {
    "name": "ipython",
    "version": 2
   },
   "file_extension": ".py",
   "mimetype": "text/x-python",
   "name": "python",
   "nbconvert_exporter": "python",
   "pygments_lexer": "ipython2",
   "version": "2.7.6"
  }
 },
 "nbformat": 4,
 "nbformat_minor": 0
}
