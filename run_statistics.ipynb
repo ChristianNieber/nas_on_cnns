{
 "cells": [
  {
   "cell_type": "code",
   "execution_count": null,
   "outputs": [],
   "source": [
    "import time\n",
    "import numpy as np\n",
    "import matplotlib.pyplot as plt\n",
    "import matplotlib.ticker as ticker\n",
    "import pickle"
   ],
   "metadata": {
    "collapsed": false
   }
  },
  {
   "cell_type": "code",
   "execution_count": null,
   "outputs": [],
   "source": [
    "experiment_name = 'FDENSER10/FDENSER00'\n",
    "NRUNS = 1\n",
    "\n",
    "stats = []\n",
    "for i in range (0, NRUNS):\n",
    "\tstatistics_file = 'D:/experiments/' + experiment_name + '/statistics.pkl'\n",
    "\twith open(statistics_file, 'rb') as f:\n",
    "\t\tstats.append(pickle.load(f))\n",
    "\n",
    "def hms(seconds):\n",
    "\treturn time.strftime(\"%H:%M:%S\", time.gmtime(seconds))\n"
   ],
   "metadata": {
    "collapsed": false
   }
  },
  {
   "cell_type": "code",
   "execution_count": null,
   "outputs": [],
   "source": [
    "stat = stats[0]\n",
    "\n",
    "print(f\"{experiment_name}: {stat.run_generation} generations\")\n",
    "print(f\"{stat.evaluations_total} evaluations ({stat.evaluations_k_folds} for k-folds), {stat.evaluations_cache_hits} cache hits, {stat.evaluations_invalid} invalid\")\n",
    "print(f\"runtime {hms(stat.run_time)}, evaluation time {hms(stat.eval_time)} (this run {hms(stat.eval_time_this_run)}), k-folds: {hms(stat.eval_time_k_folds)} (this run {hms(stat.eval_time_k_folds_this_run)})\")\n",
    "\n",
    "def plot_different_accuracies(ax, stat):\n",
    "\tngenerations = stat.run_generation + 1\n",
    "\txscale = np.arange(0, ngenerations)\n",
    "\tax.set_title('Different Accuracy Measures', fontsize=25)\n",
    "\tax.plot(stat.best.train_accuracy, label=\"training accuracy\")\n",
    "\tax.plot(stat.best.val_accuracy, label=\"validation accuracy\")\n",
    "\tax.plot(stat.best.accuracy, color='blue', label=\"(test) accuracy\")\n",
    "\tax.plot(stat.best.final_test_accuracy, label=\"final test accuracy\")\n",
    "\tif len(stat.best.k_fold_accuracy):\n",
    "\t\tax.plot(xscale, stat.best.k_fold_accuracy, '*-', color='cyan', label=\"avg K-fold accuracy\")\n",
    "\t\tax.errorbar(xscale, stat.best.k_fold_accuracy, yerr = stat.best.k_fold_accuracy_std, color='cyan', zorder=10)\n",
    "\t\tax.plot(stat.best.k_fold_final_accuracy, label=\"avg K-fold final accuracy\")\n",
    "\tax.set_ylim(0.95, 1.0)\n",
    "\tax.set_xlim(0, ngenerations)\n",
    "\tax.legend(fontsize=12)\n",
    "\tax.grid(True)\n",
    "\n",
    "def plot_parameters(ax, stat):\n",
    "\tgeneration_parameters = np.array(stat.generation_parameters)\n",
    "\t(ngenerations, population_size) = generation_parameters.shape\n",
    "\tax.set_title(f\"Number of Parameters (best: {stat.best.parameters[-1]})\", fontsize=25)\n",
    "\tfor i in range(population_size):\n",
    "\t\tax.plot(generation_parameters[:, i], 'o', markersize=4, color ='#C0C0C0', alpha=0.5, label = 'population', zorder=-32)\n",
    "\tax.plot(stat.best.parameters, color='blue', label=\"best\")\n",
    "\tax.plot(stat.best_in_gen.parameters, color='magenta', alpha=0.7, label=\"best in generation\")\n",
    "\tax.set_xlim(0, ngenerations)\n",
    "\tax.set_ylim(0, 100000)\n",
    "\tax.yaxis.set_major_locator(ticker.MultipleLocator(10000))\n",
    "\treduced_legend(ax, population_size, 2)\n",
    "\n",
    "def plot_accuracy(ax, stat):\n",
    "\tgeneration_accuracy = np.array(stat.generation_accuracy)\n",
    "\t(ngenerations, population_size) = generation_accuracy.shape\n",
    "\txscale = np.arange(0, ngenerations)\n",
    "\tax.set_title(f\"Accuracy (best: {stat.best.accuracy[-1]:.5f})\", fontsize=25)\n",
    "\tfor i in range(population_size):\n",
    "\t\tax.plot(generation_accuracy[:, i], 'o', markersize=4, color ='#C0C0C0', alpha=0.5, label = 'population accuracy', zorder=-32)\n",
    "\tif len(stat.best.k_fold_accuracy):\n",
    "\t\tax.plot(xscale, stat.best.k_fold_accuracy, '*-', color='cyan', alpha=1, label=\"K-folds of best\")\n",
    "\t\tax.errorbar(xscale, stat.best.k_fold_accuracy, yerr = stat.best.k_fold_accuracy_std, color='cyan', alpha=1, zorder=10)\n",
    "\tax.plot(stat.best_in_gen.accuracy, '*-', color = 'magenta', alpha=0.5, label='best in generation')\n",
    "\tax.plot(stat.best.accuracy, '*-', color = 'blue', alpha=0.5, label='best')\n",
    "\tax.set_ylim(0.96, 1.0)\n",
    "\tax.set_xlim(0, ngenerations)\n",
    "\treduced_legend(ax, population_size, 2)\n",
    "\t\n",
    "def plot_fitness(ax, stat):\n",
    "\tgeneration_fitness = np.array(stat.generation_fitness)\n",
    "\t(ngenerations, population_size) = generation_fitness.shape\n",
    "\txscale = np.arange(0, ngenerations)\n",
    "\tax.set_title(f\"Fitness (best: {stat.best.fitness[-1]:.5f})\", fontsize=25)\n",
    "\tfor i in range(population_size):\n",
    "\t\tax.plot(generation_fitness[:, i], 'o', markersize=4, color ='#C0C0C0', alpha=0.5, label = 'population fitness', zorder=-32)\n",
    "\tif len(stat.best.k_fold_fitness):\n",
    "\t\tax.plot(xscale, stat.best.k_fold_fitness, '*-', color='cyan', alpha=1, label=\"K-folds of best\")\n",
    "\t\tax.errorbar(xscale, stat.best.k_fold_fitness, yerr = stat.best.k_fold_fitness_std, color='cyan', alpha=1, zorder=10)\n",
    "\tax.plot(stat.best_in_gen.fitness, '*-', color = 'magenta', alpha=0.5, label='best in generation')\n",
    "\tax.plot(stat.best.fitness, '*-', color = 'blue', alpha=0.5, label='best')\n",
    "\tax.set_ylim(-2, 3)\n",
    "\tax.set_xlim(0, ngenerations)\n",
    "\treduced_legend(ax, population_size, 2)\n",
    "\n",
    "# show label for 'Population accuracy' only once\n",
    "def reduced_legend(ax, population_size, additional_entries=1):\n",
    "\thandles, labels = ax.get_legend_handles_labels()\n",
    "\tdisplay = [0] + [i for i in range(population_size, population_size + additional_entries)]\n",
    "\tax.legend([handle for i,handle in enumerate(handles) if i in display],\n",
    "\t\t\t\t[label for i,label in enumerate(labels) if i in display], loc = 'best', fontsize=15)\n",
    "\tax.grid(True)\n",
    "\n",
    "fig, ((ax, ax2), (ax3, ax4)) = plt.subplots(2, 2, figsize=(20,14))\n",
    "\n",
    "plot_accuracy(ax, stat)\n",
    "\n",
    "plot_parameters(ax2, stat)\n",
    "\n",
    "plot_fitness(ax3, stat)\n",
    "\n",
    "plot_different_accuracies(ax4, stat)"
   ],
   "metadata": {
    "collapsed": false
   }
  },
  {
   "cell_type": "code",
   "execution_count": null,
   "outputs": [],
   "source": [
    "if stat.stepwidth_stats:\n",
    "\tfig, ax = plt.subplots()\n",
    "\tfor (module, var, values) in stat.stepwidth_stats:\n",
    "\t\tax.plot(values, label=f\"{module}/{var}\")\n",
    "\tax.legend()"
   ],
   "metadata": {
    "collapsed": false
   }
  },
  {
   "cell_type": "code",
   "execution_count": null,
   "outputs": [],
   "source": [],
   "metadata": {
    "collapsed": false
   }
  }
 ],
 "metadata": {
  "kernelspec": {
   "name": "python3",
   "language": "python",
   "display_name": "Python 3 (ipykernel)"
  },
  "language_info": {
   "codemirror_mode": {
    "name": "ipython",
    "version": 2
   },
   "file_extension": ".py",
   "mimetype": "text/x-python",
   "name": "python",
   "nbconvert_exporter": "python",
   "pygments_lexer": "ipython2",
   "version": "2.7.6"
  }
 },
 "nbformat": 4,
 "nbformat_minor": 0
}
