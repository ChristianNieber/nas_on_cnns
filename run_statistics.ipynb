{
 "cells": [
  {
   "cell_type": "code",
   "execution_count": null,
   "outputs": [],
   "source": [
    "from plot_statistics import *"
   ],
   "metadata": {
    "collapsed": false
   }
  },
  {
   "cell_type": "code",
   "execution_count": null,
   "outputs": [],
   "source": [
    "experiment_name = 'FDENSERX/FDENSER*'\n",
    "experiment_title = 'F-DENSER'\n",
    "\n",
    "#experiment_name = 'DECAY1X/DECAY*'\n",
    "#experiment_title = 'Decay1'\n",
    "\n",
    "experiments_path = 'D:/experiments/'\n",
    "# experiments_path = '/content/gdrive/MyDrive/experiments/'\n",
    "\n",
    "stats = load_stats(experiments_path, experiment_name)\n",
    "\n",
    "print_statistics(stats, experiments_path, experiment_name)"
   ],
   "metadata": {
    "collapsed": false
   }
  },
  {
   "cell_type": "code",
   "execution_count": null,
   "outputs": [],
   "source": [
    "do_all_plots(stats, experiment_title=experiment_title)"
   ],
   "metadata": {
    "collapsed": false
   }
  },
  {
   "cell_type": "code",
   "execution_count": null,
   "outputs": [],
   "source": [
    "#if stat.stepwidth_stats:\n",
    "#\tfig, ax = plt.subplots()\n",
    "#\tfor (module, var, values) in stat.stepwidth_stats:\n",
    "#\t\tax.plot(values, label=f\"{module}/{var}\")\n",
    "#\tax.legend()"
   ],
   "metadata": {
    "collapsed": false
   }
  }
 ],
 "metadata": {
  "kernelspec": {
   "name": "python3",
   "language": "python",
   "display_name": "Python 3 (ipykernel)"
  },
  "language_info": {
   "codemirror_mode": {
    "name": "ipython",
    "version": 2
   },
   "file_extension": ".py",
   "mimetype": "text/x-python",
   "name": "python",
   "nbconvert_exporter": "python",
   "pygments_lexer": "ipython2",
   "version": "2.7.6"
  }
 },
 "nbformat": 4,
 "nbformat_minor": 0
}
