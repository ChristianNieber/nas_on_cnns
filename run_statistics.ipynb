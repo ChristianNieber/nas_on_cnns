{
 "cells": [
  {
   "cell_type": "code",
   "execution_count": null,
   "outputs": [],
   "source": [
    "import time\n",
    "import numpy as np\n",
    "import matplotlib.pyplot as plt\n",
    "import pickle"
   ],
   "metadata": {
    "collapsed": false
   }
  },
  {
   "cell_type": "code",
   "execution_count": null,
   "outputs": [],
   "source": [
    "experiment_name = 'Random Comma 1'\n",
    "statistics_file = 'D:/experiments/' + experiment_name + '/statistics.pkl'\n",
    "\n",
    "with open(statistics_file, 'rb') as f:\n",
    "\tstat = pickle.load(f)\n",
    "\n",
    "def hms(seconds):\n",
    "\treturn time.strftime(\"%H:%M:%S\", time.gmtime(seconds))\n",
    "\n",
    "print(f\"{experiment_name}: {stat.run_generation} generations\")\n",
    "print(f\"{stat.evaluations_total} evaluations ({stat.evaluations_k_folds} for k-folds), {stat.evaluations_cache_hits} cache hits, {stat.evaluations_invalid} invalid\")\n",
    "print(f\"runtime {hms(stat.run_time)}, evaluation time {hms(stat.eval_time)} (this run {hms(stat.eval_time_this_run)}), k-folds: {hms(stat.eval_time_k_folds)} (this run {hms(stat.eval_time_k_folds_this_run)})\")"
   ],
   "metadata": {
    "collapsed": false
   }
  },
  {
   "cell_type": "code",
   "execution_count": null,
   "outputs": [],
   "source": [
    "def plot_accuracy(ax, xscale, ind_stat, color, label):\n",
    "\tif len(ind_stat.k_fold_accuracy):\n",
    "\t\tax.plot(xscale, ind_stat.k_fold_accuracy, '*-', color=color, alpha=0.7, label=\"K-fold \" + label)\n",
    "\t\tax.errorbar(xscale, ind_stat.k_fold_accuracy, yerr = ind_stat.k_fold_accuracy_std, color=color, alpha=0.7, zorder=10)\n",
    "\telse:\n",
    "\t\tax.plot(ind_stat.accuracy, 'o-', color = color, alpha=0.5, label=label)\n",
    "\n",
    "def plot_fitness(ax, xscale, ind_stat, color, label):\n",
    "\tif len(ind_stat.k_fold_accuracy):\n",
    "\t\tax.plot(xscale, ind_stat.k_fold_fitness, '*-', color=color, alpha=0.7, label=\"K-fold \" + label)\n",
    "\t\tax.errorbar(xscale, ind_stat.k_fold_fitness, yerr = ind_stat.k_fold_fitness_std, color=color, alpha=0.7, zorder=10)\n",
    "\telse:\n",
    "\t\tax.plot(ind_stat.fitness, 'o-', color = color, alpha=0.5, label=label)\n",
    "\n",
    "# show label for 'Population accuracy' only once\n",
    "def reduced_legend(ax, population_size, additional_entries=1):\n",
    "\thandles, labels = ax.get_legend_handles_labels()\n",
    "\tdisplay = [0] + [i for i in range(population_size, population_size + additional_entries)]\n",
    "\tax.legend([handle for i,handle in enumerate(handles) if i in display],\n",
    "\t\t\t\t[label for i,label in enumerate(labels) if i in display], loc = 'best', fontsize=15)\n",
    "\tax2.grid(True)\n",
    "\n",
    "generation_accuracy = np.array(stat.generation_accuracy)\n",
    "generation_parameters = np.array(stat.generation_parameters)\n",
    "generation_fitness = np.array(stat.generation_fitness)\n",
    "(ngenerations, population_size) = generation_accuracy.shape\n",
    "xscale = np.arange(0, stat.run_generation)\n",
    "\n",
    "fig, ((ax, ax2), (ax3, ax4)) = plt.subplots(2, 2, figsize=(20,14))\n",
    "\n",
    "ax.set_title('Accuracy', fontsize=25)\n",
    "for i in range(population_size):\n",
    "\tax.plot(generation_accuracy[:, i], 'o', color ='#C0C0C0', label = 'population accuracy', zorder=-32)\n",
    "plot_accuracy(ax, xscale, stat.best, 'blue', 'best')\n",
    "plot_accuracy(ax, xscale, stat.best_in_gen, 'magenta', 'best in generation')\n",
    "ax.set_ylim(0.96, 1.0)\n",
    "ax.set_xlim(0, ngenerations)\n",
    "reduced_legend(ax, population_size, 2)\n",
    "\n",
    "ax2.set_title(\"Number of Parameters\", fontsize=25)\n",
    "for i in range(population_size):\n",
    "\tax2.plot(generation_parameters[:, i], '*', color ='#C0C0C0', label = 'population', zorder=-32)\n",
    "ax2.plot(stat.best.parameters, color='blue', label=\"best\")\n",
    "ax2.plot(stat.best_in_gen.parameters, color='magenta', alpha=0.7, label=\"best in generation\")\n",
    "ax2.set_xlim(0, ngenerations)\n",
    "ax2.set_ylim(0, 100000)\n",
    "reduced_legend(ax2, population_size, 2)\n",
    "\n",
    "ax3.set_title('Fitness', fontsize=25)\n",
    "for i in range(population_size):\n",
    "\tax3.plot(generation_fitness[:, i], '*', color ='#C0C0C0', label = 'Population fitness', zorder=-32)\n",
    "plot_fitness(ax3, xscale, stat.best, 'blue', 'best')\n",
    "plot_fitness(ax3, xscale, stat.best_in_gen, 'magenta', 'best in generation')\n",
    "ax3.set_ylim(-10, 3)\n",
    "ax3.set_xlim(0, ngenerations)\n",
    "reduced_legend(ax3, population_size, 2)\n",
    "\n",
    "ax4.set_title('Different Accuracy Measures', fontsize=25)\n",
    "if len(stat.best.k_fold_accuracy):\n",
    "\tax4.plot(xscale, stat.best.k_fold_accuracy, 'b*-', label=\"avg K-fold accuracy\")\n",
    "\tax4.errorbar(xscale, stat.best.k_fold_accuracy, yerr = stat.best.k_fold_accuracy_std, ecolor='b', zorder=10)\n",
    "\tax4.plot(stat.k_fold_final_accuracy, label=\"avg K-fold final accuracy\")\n",
    "ax4.plot(stat.best.accuracy, label=\"test accuracy\")\n",
    "ax4.plot(stat.best.train_accuracy, label=\"training accuracy\")\n",
    "ax4.plot(stat.best.val_accuracy, label=\"validation accuracy\")\n",
    "ax4.plot(stat.best.final_test_accuracy, label=\"final test accuracy\")\n",
    "ax4.set_ylim(0.96, 1.0)\n",
    "ax4.set_xlim(0, ngenerations)\n",
    "ax4.legend(fontsize=15)\n",
    "ax4.grid(True)"
   ],
   "metadata": {
    "collapsed": false
   }
  },
  {
   "cell_type": "code",
   "execution_count": null,
   "outputs": [],
   "source": [],
   "metadata": {
    "collapsed": false
   }
  }
 ],
 "metadata": {
  "kernelspec": {
   "name": "python3",
   "language": "python",
   "display_name": "Python 3 (ipykernel)"
  },
  "language_info": {
   "codemirror_mode": {
    "name": "ipython",
    "version": 2
   },
   "file_extension": ".py",
   "mimetype": "text/x-python",
   "name": "python",
   "nbconvert_exporter": "python",
   "pygments_lexer": "ipython2",
   "version": "2.7.6"
  }
 },
 "nbformat": 4,
 "nbformat_minor": 0
}
