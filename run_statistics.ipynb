{
 "cells": [
  {
   "cell_type": "code",
   "execution_count": null,
   "outputs": [],
   "source": [
    "from plot_statistics import *"
   ],
   "metadata": {
    "collapsed": false
   }
  },
  {
   "cell_type": "code",
   "execution_count": null,
   "outputs": [],
   "source": [
    "# experiment_name = 'Random Search'\n",
    "# experiment_name = 'F-DENSER'\n",
    "# experiment_name = 'Stepper-Decay'\n",
    "experiment_name = 'Stepper-Adaptive'\n",
    "\n",
    "stats = load_stats(experiment_name)\n",
    "print_statistics(stats, experiment_name)\n",
    "do_all_plots(stats, experiment_name, plot_best_run=True, group_pictures=True)"
   ],
   "metadata": {
    "collapsed": false
   }
  },
  {
   "cell_type": "code",
   "execution_count": null,
   "outputs": [],
   "source": [
    "experiment_name = 'Random Search'\n",
    "stats = load_stats( experiment_name)\n",
    "print_statistics(stats, experiment_name)\n",
    "\n",
    "experiment_name = 'F-DENSER'\n",
    "stats = load_stats(experiment_name)\n",
    "print_statistics(stats, experiment_name)\n",
    "\n",
    "experiment_name = 'Stepper-decay'\n",
    "stats = load_stats(experiment_name)\n",
    "print_statistics(stats, experiment_name)\n",
    "\n",
    "experiment_name = 'Stepper-adaptive'\n",
    "stats = load_stats(experiment_name)\n",
    "print_statistics(stats, experiment_name)"
   ],
   "metadata": {
    "collapsed": false
   }
  },
  {
   "cell_type": "code",
   "execution_count": null,
   "outputs": [],
   "source": [
    "experiment_name = 'Stepper-Adaptive'\n",
    "stats = load_stats(experiment_name)\n",
    "print_statistics(stats, experiment_name)\n",
    "\n",
    "do_all_plots(stats, experiment_name, plot_best_run=True, group_pictures=True)"
   ],
   "metadata": {
    "collapsed": false
   }
  },
  {
   "cell_type": "code",
   "execution_count": null,
   "outputs": [],
   "source": [],
   "metadata": {
    "collapsed": false
   }
  }
 ],
 "metadata": {
  "kernelspec": {
   "name": "python3",
   "language": "python",
   "display_name": "Python 3 (ipykernel)"
  },
  "language_info": {
   "codemirror_mode": {
    "name": "ipython",
    "version": 2
   },
   "file_extension": ".py",
   "mimetype": "text/x-python",
   "name": "python",
   "nbconvert_exporter": "python",
   "pygments_lexer": "ipython2",
   "version": "2.7.6"
  }
 },
 "nbformat": 4,
 "nbformat_minor": 0
}
