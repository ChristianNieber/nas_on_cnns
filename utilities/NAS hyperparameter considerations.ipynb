{
 "cells": [
  {
   "cell_type": "code",
   "execution_count": null,
   "metadata": {
    "collapsed": true
   },
   "outputs": [],
   "source": [
    "# importing libraries\n",
    "import numpy as np\n",
    "import random\n",
    "import matplotlib.pyplot as plt\n",
    "import matplotlib.ticker as ticker\n",
    "\n",
    "SAVE_PATH = 'D:/Data/workspace/Dissertation/graphs/'"
   ]
  },
  {
   "cell_type": "code",
   "execution_count": null,
   "outputs": [],
   "source": [
    "accuracy_and_parameters_list = [\n",
    "\t(0.985, 62158),\n",
    "\t(0.985, 31079),\n",
    "\t(0.985-0.01, 31079),\n",
    "\t(0.98, 62158),\n",
    "\t(0.985, 31000),\n",
    "\t(0.98, 62000),\n",
    "\t(0.995, 62000),\n",
    "\t(0.99, 62000),\n",
    "\t(0.985, 62000),\n",
    "\t(0.98, 62000),\n",
    "\t(0.97, 62000),\n",
    "\t(0.95, 62000),\n",
    "\t(0.90, 62000),\n",
    "\t(0.80, 62000),\n",
    "\t(0.50, 62000),\n",
    "\t(0.20, 62000),\n",
    "\t(0.995, 31000),\n",
    "\t(0.99, 31000),\n",
    "\t(0.98, 31000),\n",
    "\t(0.97, 31000),\n",
    "\t(0.95, 31000),\n",
    "\t(0.90, 31000),\n",
    "\t(0.80, 31000),\n",
    "\t(0.50, 31000),\n",
    "\t(0.20, 31000),\n",
    "\t(0.995, 93000),\n",
    "\t(0.99, 93000),\n",
    "\t(0.98, 93000),\n",
    "\t(0.97, 93000),\n",
    "\t(0.95, 93000),\n",
    "\t(0.90, 93000),\n",
    "\t(0.80, 93000),\n",
    "\t(0.50, 93000),\n",
    "\t(0.20, 93000),\n",
    "\t(0.98, 100000),\n",
    "\t(0.98, 80000),\n",
    "\t(0.98, 60000),\n",
    "\t(0.98, 50000),\n",
    "\t(0.98, 40000),\n",
    "\t(0.98, 30000),\n",
    "\t(0.98, 20000),\n",
    "\t(0.995, 500000),\n",
    "\t(0.995, 250000),\n",
    "\t(0.995, 10000),\n",
    "\t(0.995, 50000),\n",
    "\t(0.995, 40000),\n",
    "\t(0.995, 30000),\n",
    "\t(0.995, 20000),\n",
    "]\n",
    "\n",
    "def fitness_metric_with_size_penalty(accuracy, parameters):\n",
    "\treturn 2.5625 - (((1.0 - accuracy)/0.02) ** 2 + parameters / 31079.0)\n",
    "\n",
    "for (accuracy, parameters) in accuracy_and_parameters_list:\n",
    "    fitness = fitness_metric_with_size_penalty(accuracy, parameters)\n",
    "    print(f\"{accuracy=} {parameters=} {fitness=}\")"
   ],
   "metadata": {
    "collapsed": false
   }
  },
  {
   "cell_type": "code",
   "execution_count": null,
   "outputs": [],
   "source": [
    "# Plot fitness function. The influence of \"parameters\" is hardly visible.\n",
    "def function(x, y):\n",
    "    return np.sin(np.sqrt(x ** 2 + y ** 2))\n",
    "\n",
    "x = np.linspace(0.9, 1.0, 40)\n",
    "y = np.linspace(0, 100000, 40)\n",
    "\n",
    "X, Y = np.meshgrid(x, y)\n",
    "Z = fitness_metric_with_size_penalty(X, Y)\n",
    "\n",
    "fig = plt.figure(figsize=(10, 8))\n",
    "ax = plt.axes(projection='3d')\n",
    "\n",
    "ax.plot_surface(X, Y, Z, cmap='cool', alpha=0.8)\n",
    "\n",
    "ax.set_title('3D Contour Plot of fitness_function(accuracy, parameters)', fontsize=14)\n",
    "ax.set_xlabel('accuracy', fontsize=12)\n",
    "ax.set_ylabel('parameters', fontsize=12)\n",
    "ax.set_zlabel('z', fontsize=12)\n",
    "\n",
    "plt.show()"
   ],
   "metadata": {
    "collapsed": false
   }
  },
  {
   "cell_type": "code",
   "execution_count": null,
   "outputs": [],
   "source": [
    "# Plot step size decay over generations curve\n",
    "def plot_function(x, function, title, xlim=None, ylim=None):\n",
    "\ty = list(map(function, x))\n",
    "\tfig, ax = plt.subplots(figsize=(5, 3.5))\n",
    "\tax.plot(x, y)\n",
    "\t# ax.set_xlim(0, 200)\n",
    "\tax.set_xlim(0, xlim)\n",
    "\tax.xaxis.set_major_locator(ticker.MultipleLocator(20))\n",
    "\tax.set_ylim(0, ylim)\n",
    "\tax.grid()\n",
    "\tplt.title(title)\n",
    "#\tplt.xlabel(\"Generation\")\n",
    "\tplt.savefig(f\"{SAVE_PATH}step_width_decay.svg\", format=\"svg\", dpi=1200)\n",
    "\tplt.show()\n",
    "\n",
    "DECAY_RATE = 1/30\n",
    "def step_sigma(generation):\n",
    "\treturn (1/(1 + DECAY_RATE * generation))*0.5\n",
    "\n",
    "# plot step width decay over 200 generations\n",
    "x = np.arange(0, 200, 1)\n",
    "plot_function(x, step_sigma, \"Step size σ with decay rate = $1/30$\", xlim=200)\n",
    "print(step_sigma(99))\n",
    "print(step_sigma(199))"
   ],
   "metadata": {
    "collapsed": false
   }
  },
  {
   "cell_type": "code",
   "execution_count": null,
   "outputs": [],
   "source": [
    "# Plot distribution of mutations starting at point 50 in [0, 100] interval\n",
    "# at the start of the NAS run when σ = 0.5\n",
    "MY= 50\n",
    "SIGMA=50 \n",
    "\n",
    "def gaussian(x, mu, sigma):\n",
    "    return 1.0 / (np.sqrt(2.0 * np.pi) * sigma) * np.exp(-np.power((x - mu) / sigma, 2.0) / 2)\n",
    "\n",
    "def my_normal_distribution(x):\n",
    "\treturn gaussian(x, MY, SIGMA)\n",
    "\n",
    "x = np.arange(0, 100, 1)\n",
    "plot_function(x, my_normal_distribution, \"Normal distribution N(50, 50)\")\n"
   ],
   "metadata": {
    "collapsed": false
   }
  },
  {
   "cell_type": "code",
   "execution_count": null,
   "outputs": [],
   "source": [
    "# removed MIES integer mutation code\n",
    "# phi = 1 - (step / mutation_state.nvars) / (1 + np.sqrt(1 + (step / mutation_state.nvars) ** 2))\n",
    "# u1 = random.uniform(0.0, 1.0)\n",
    "# u2 = random.uniform(0.0, 1.0)\n",
    "# G1 = int(np.floor(np.log(1 - u1) / np.log(1 - phi)))\n",
    "# G2 = int(np.floor(np.log(1 - u2) / np.log(1 - phi)))\n",
    "# diff = G2 - G1"
   ],
   "metadata": {
    "collapsed": false
   }
  },
  {
   "cell_type": "code",
   "execution_count": null,
   "outputs": [],
   "source": [
    "# Consideration for expected normal value\n",
    "from scipy.special import gamma\n",
    "\n",
    "ABS_NORMAL_EXPECTATION_VALUE = np.sqrt(2/np.pi)\n",
    "\n",
    "def expected_value(n):\n",
    "\treturn np.sqrt(2) * gamma((n+1)/2) / gamma(n/2)\n",
    "\n",
    "for n in range(3, 10):\n",
    "\tnorm_list = []\n",
    "\ttransformed_list = []\n",
    "\tfor i in range(10000):\n",
    "\t\tnormal_vector = np.array([random.gauss(0, 1) for k in range(0, n)])\n",
    "\t\ttransformed_normal_vector = np.abs(normal_vector) - ABS_NORMAL_EXPECTATION_VALUE\n",
    "\t\tnorm = np.linalg.norm(normal_vector)\n",
    "\t\tnorm_list.append(norm)\n",
    "\t\ttransformed_list.append(np.linalg.norm(transformed_normal_vector))\n",
    "\tprint(f\"{n=} mean={np.mean(norm_list):.5f}, expected={expected_value(n):.5f}, transformed={np.mean(transformed_normal_vector):.5f}\")"
   ],
   "metadata": {
    "collapsed": false
   }
  },
  {
   "cell_type": "code",
   "execution_count": null,
   "outputs": [],
   "source": [
    "# Test plausibilty of excpected_value() function for gaussian distribution\n",
    "for n in range(1, 10):r\n",
    "\tnorm_list = []\n",
    "\tfor i in range(10000):\n",
    "\t\tnormal_vector = [random.gauss(0, 1) for k in range(0, n)]\n",
    "\t\tnorm = np.linalg.norm(normal_vector)\n",
    "\t\tnorm_list.append(norm)\n",
    "\tprint(f\"{n=} mean={np.mean(norm_list):.5f}, expected={expected_value(n):.5f}\")"
   ],
   "metadata": {
    "collapsed": false
   }
  },
  {
   "cell_type": "code",
   "execution_count": null,
   "outputs": [],
   "source": [
    "# Estimate size of search space\n",
    "# relevant number of quantizations assumed for each continuous values of the learning optimizer\n",
    "real_values_combinations = 1000\n",
    "# expected number of layers in search space\n",
    "expected_conv_layers = 3\n",
    "expected_pooling_layers = 3\n",
    "expected_fc_layers = 2\n",
    "conv_layer_combinations = (256-2+1) * (5-2+1) * (3-1+1)*4*2*2*2\n",
    "pooling_layer_combinations = 2 * (5-2+1) * (3-1+1) * 2\n",
    "fc_layer_combinations = 4 * (2048-64+1) * 2 * 2\n",
    "learning_combinations = 3 * (real_values_combinations ** 3)\n",
    "print(f\"{conv_layer_combinations=} {pooling_layer_combinations=} {learning_combinations=}\")\n",
    "parameter_combinations = (conv_layer_combinations ** expected_conv_layers) * (pooling_layer_combinations ** expected_pooling_layers) * (fc_layer_combinations ** expected_fc_layers) * learning_combinations\n",
    "layer_type_combinations = 2 ** (expected_conv_layers + expected_pooling_layers)\n",
    "print(f\"{parameter_combinations=:.3e} {layer_type_combinations=:.3e}\")\n",
    "total_combinations = parameter_combinations * layer_type_combinations\n",
    "print(f\"{total_combinations=:.3e}\")"
   ],
   "metadata": {
    "collapsed": false
   }
  },
  {
   "cell_type": "code",
   "execution_count": null,
   "outputs": [],
   "source": [
    "# Estimate size of SMALL search space with max. 64 convolutional filters (instead of 256) and max 256 units in a fc layer (instead of 2048)\n",
    "conv_layer_combinations = (64-2+1) * (5-2+1) * (3-1+1)*4*2*2*2\n",
    "pooling_layer_combinations = 2 * (5-2+1) * (3-1+1) * 2\n",
    "fc_layer_combinations = 4 * (256-64+1) * 2 * 2\n",
    "learning_combinations = 3 * (real_values_combinations ** 3)\n",
    "print(f\"{conv_layer_combinations=} {pooling_layer_combinations=} {learning_combinations=}\")\n",
    "parameter_combinations = (conv_layer_combinations ** expected_conv_layers) * (pooling_layer_combinations ** expected_pooling_layers) * (fc_layer_combinations ** expected_fc_layers) * learning_combinations\n",
    "layer_type_combinations = 2 ** (expected_conv_layers + expected_pooling_layers)\n",
    "print(f\"{parameter_combinations=:.3e} {layer_type_combinations=:.3e}\")\n",
    "total_combinations = parameter_combinations * layer_type_combinations\n",
    "print(f\"small space - {total_combinations=:.3e}\")"
   ],
   "metadata": {
    "collapsed": false
   }
  },
  {
   "cell_type": "code",
   "execution_count": null,
   "outputs": [],
   "source": [],
   "metadata": {
    "collapsed": false
   }
  }
 ],
 "metadata": {
  "kernelspec": {
   "name": "tf",
   "language": "python",
   "display_name": "tf"
  },
  "language_info": {
   "codemirror_mode": {
    "name": "ipython",
    "version": 2
   },
   "file_extension": ".py",
   "mimetype": "text/x-python",
   "name": "python",
   "nbconvert_exporter": "python",
   "pygments_lexer": "ipython2",
   "version": "2.7.6"
  }
 },
 "nbformat": 4,
 "nbformat_minor": 0
}
