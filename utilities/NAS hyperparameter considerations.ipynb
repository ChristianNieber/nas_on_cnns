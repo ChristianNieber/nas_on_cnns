{
 "cells": [
  {
   "cell_type": "code",
   "execution_count": null,
   "metadata": {
    "collapsed": true
   },
   "outputs": [],
   "source": [
    "# importing libraries\n",
    "import numpy as np\n",
    "import random\n",
    "import matplotlib.pyplot as plt"
   ]
  },
  {
   "cell_type": "code",
   "execution_count": null,
   "outputs": [],
   "source": [
    "fitness_and_connections_list = [\n",
    "\t(0.985, 62158),\n",
    "\t(0.985, 31079),\n",
    "\t(0.985-0.01, 31079),\n",
    "\t(0.98, 62158),\n",
    "\t(0.985, 31000),\n",
    "\t(0.98, 62000),\n",
    "\t(0.995, 62000),\n",
    "\t(0.99, 62000),\n",
    "\t(0.985, 62000),\n",
    "\t(0.98, 62000),\n",
    "\t(0.97, 62000),\n",
    "\t(0.95, 62000),\n",
    "\t(0.90, 62000),\n",
    "\t(0.80, 62000),\n",
    "\t(0.50, 62000),\n",
    "\t(0.20, 62000),\n",
    "\t(0.995, 31000),\n",
    "\t(0.99, 31000),\n",
    "\t(0.98, 31000),\n",
    "\t(0.97, 31000),\n",
    "\t(0.95, 31000),\n",
    "\t(0.90, 31000),\n",
    "\t(0.80, 31000),\n",
    "\t(0.50, 31000),\n",
    "\t(0.20, 31000),\n",
    "\t(0.995, 93000),\n",
    "\t(0.99, 93000),\n",
    "\t(0.98, 93000),\n",
    "\t(0.97, 93000),\n",
    "\t(0.95, 93000),\n",
    "\t(0.90, 93000),\n",
    "\t(0.80, 93000),\n",
    "\t(0.50, 93000),\n",
    "\t(0.20, 93000),\n",
    "\t(0.98, 100000),\n",
    "\t(0.98, 80000),\n",
    "\t(0.98, 60000),\n",
    "\t(0.98, 50000),\n",
    "\t(0.98, 40000),\n",
    "\t(0.98, 30000),\n",
    "\t(0.98, 20000),\n",
    "\t(0.995, 500000),\n",
    "\t(0.995, 250000),\n",
    "\t(0.995, 10000),\n",
    "\t(0.995, 50000),\n",
    "\t(0.995, 40000),\n",
    "\t(0.995, 30000),\n",
    "\t(0.995, 20000),\n",
    "]\n",
    "\n",
    "def fitness_function(accuracy, connections):\n",
    "\treturn 2.5625-(((1.0-accuracy)/0.02)**2 + connections / 31079.0)\n",
    "\n",
    "for (accuracy, connections) in fitness_and_connections_list:\n",
    "    fitness = fitness_function(accuracy, connections)\n",
    "    print(f\"{accuracy=} {connections=} {fitness=}\")"
   ],
   "metadata": {
    "collapsed": false
   }
  },
  {
   "cell_type": "code",
   "execution_count": null,
   "outputs": [],
   "source": [
    "def function(x, y):\n",
    "    return np.sin(np.sqrt(x ** 2 + y ** 2))\n",
    "\n",
    "x = np.linspace(0.9, 1.0, 40)\n",
    "y = np.linspace(0, 100000, 40)\n",
    "\n",
    "X, Y = np.meshgrid(x, y)\n",
    "Z = fitness_function(X, Y)\n",
    "\n",
    "fig = plt.figure(figsize=(10, 8))\n",
    "ax = plt.axes(projection='3d')\n",
    "\n",
    "ax.plot_surface(X, Y, Z, cmap='cool', alpha=0.8)\n",
    "\n",
    "ax.set_title('3D Contour Plot of fitness_function(accuracy, parameters)', fontsize=14)\n",
    "ax.set_xlabel('accuracy', fontsize=12)\n",
    "ax.set_ylabel('parameters', fontsize=12)\n",
    "ax.set_zlabel('z', fontsize=12)\n",
    "\n",
    "plt.show()"
   ],
   "metadata": {
    "collapsed": false
   }
  },
  {
   "cell_type": "code",
   "execution_count": null,
   "outputs": [],
   "source": [
    "def plot_function(x, function, xlim=None, ylim=None):\n",
    "\ty = list(map(function, x))\n",
    "\tfig, ax = plt.subplots()\n",
    "\tax.plot(x, y)\n",
    "\t# ax.set_xlim(0, 200)\n",
    "\tax.set_xlim(0, xlim)\n",
    "\tax.set_ylim(0, ylim)\n",
    "\tax.grid()\n",
    "\tplt.title(\"Step width σ with decay rate = $1/30$\")\n",
    "\tplt.xlabel(\"Generation\")\n",
    "\tplt.ylabel(\"step width σ\")\n",
    "\tplt.savefig(\"D:/Step width decay.svg\", format=\"svg\", transparent=True)\n",
    "\tplt.show()\n",
    "\n",
    "DECAY_RATE = 1/30\n",
    "def step_sigma(generation):\n",
    "\treturn (1/(1 + DECAY_RATE * generation))*0.5\n",
    "\n",
    "# test of interval_transform\n",
    "x = np.arange(0, 200, 1)\n",
    "plot_function(x, step_sigma, xlim=200)\n",
    "print(step_sigma(99))\n",
    "print(step_sigma(199))"
   ],
   "metadata": {
    "collapsed": false
   }
  },
  {
   "cell_type": "code",
   "execution_count": null,
   "outputs": [],
   "source": [
    "MY= 50\n",
    "SIGMA=50 \n",
    "\n",
    "def gaussian(x, mu, sigma):\n",
    "    return 1.0 / (np.sqrt(2.0 * np.pi) * sigma) * np.exp(-np.power((x - mu) / sigma, 2.0) / 2)\n",
    "\n",
    "def my_normal_distribution(x):\n",
    "\treturn gaussian(x, MY, SIGMA)\n",
    "\n",
    "x = np.arange(0, 100, 1)\n",
    "plot_function(x, my_normal_distribution)\n"
   ],
   "metadata": {
    "collapsed": false
   }
  },
  {
   "cell_type": "code",
   "execution_count": null,
   "outputs": [],
   "source": [
    "# removed MIES integer mutation code\n",
    "# phi = 1 - (step / mutation_state.nvars) / (1 + np.sqrt(1 + (step / mutation_state.nvars) ** 2))\n",
    "# u1 = random.uniform(0.0, 1.0)\n",
    "# u2 = random.uniform(0.0, 1.0)\n",
    "# G1 = int(np.floor(np.log(1 - u1) / np.log(1 - phi)))\n",
    "# G2 = int(np.floor(np.log(1 - u2) / np.log(1 - phi)))\n",
    "# diff = G2 - G1"
   ],
   "metadata": {
    "collapsed": false
   }
  },
  {
   "cell_type": "code",
   "execution_count": null,
   "outputs": [],
   "source": [
    "from scipy.special import gamma\n",
    "\n",
    "ABS_NORMAL_EXPECTATION_VALUE = np.sqrt(2/np.pi)\n",
    "\n",
    "def expected_value(n):\n",
    "\treturn np.sqrt(2) * gamma((n+1)/2) / gamma(n/2)\n",
    "\n",
    "for n in range(3, 10):\n",
    "\tnorm_list = []\n",
    "\ttransformed_list = []\n",
    "\tfor i in range(10000):\n",
    "\t\tnormal_vector = np.array([random.gauss(0, 1) for k in range(0, n)])\n",
    "\t\ttransformed_normal_vector = np.abs(normal_vector) - ABS_NORMAL_EXPECTATION_VALUE\n",
    "\t\tnorm = np.linalg.norm(normal_vector)\n",
    "\t\tnorm_list.append(norm)\n",
    "\t\ttransformed_list.append(np.linalg.norm(transformed_normal_vector))\n",
    "\tprint(f\"{n=} mean={np.mean(norm_list):.5f}, expected={expected_value(n):.5f}, transformed={np.mean(transformed_normal_vector):.5f}\")"
   ],
   "metadata": {
    "collapsed": false
   }
  },
  {
   "cell_type": "code",
   "execution_count": null,
   "outputs": [],
   "source": [
    "for n in range(1, 10):\n",
    "\tnorm_list = []\n",
    "\tfor i in range(10000):\n",
    "\t\tnormal_vector = [random.gauss(0, 1) for k in range(0, n)]\n",
    "\t\tnorm = np.linalg.norm(normal_vector)\n",
    "\t\tnorm_list.append(norm)\n",
    "\tprint(f\"{n=} mean={np.mean(norm_list):.5f}, expected={expected_value(n):.5f}\")"
   ],
   "metadata": {
    "collapsed": false
   }
  }
 ],
 "metadata": {
  "kernelspec": {
   "name": "tf",
   "language": "python",
   "display_name": "tf"
  },
  "language_info": {
   "codemirror_mode": {
    "name": "ipython",
    "version": 2
   },
   "file_extension": ".py",
   "mimetype": "text/x-python",
   "name": "python",
   "nbconvert_exporter": "python",
   "pygments_lexer": "ipython2",
   "version": "2.7.6"
  }
 },
 "nbformat": 4,
 "nbformat_minor": 0
}
